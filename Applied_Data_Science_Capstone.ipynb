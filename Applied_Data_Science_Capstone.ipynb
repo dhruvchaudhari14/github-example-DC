import pandas library as pd
import numpy as np
print("Hello Capstone Project Course")
