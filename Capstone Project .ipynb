{
 "cells": [
  {
   "cell_type": "markdown",
   "metadata": {},
   "source": [
    "# Applied Data Science Capstone Project : \n",
    "### Battle against COVID-19.\n"
   ]
  },
  {
   "cell_type": "markdown",
   "metadata": {},
   "source": [
    "### 1. Introduction to the problem :"
   ]
  },
  {
   "cell_type": "markdown",
   "metadata": {},
   "source": [
    "In this project I would like to talk and explain about the recent development in COVID-19 in India.\n",
    "Through this project I would like to figure out in which areas has the virus peaked and due to what reasons exactly and why?\n",
    "\n",
    "\n",
    "Hopefully through this project I will be able to talk about further development in this battle.\n",
    "\n",
    "I am planning on using various Models for the prediction I intend to do.\n",
    "Foursquare API will be able to provide me with the venues in India and where exactly it has affected the most.\n",
    "In the current situation the Government is talking about extending the lockdown which is in effect until 17th May.But if the lockdown is lifted, how it will affect certain areas wwith top picks such as restaurants and other venues,and hence how it affects the scale of the deadly Corona Virus.\n",
    "\n"
   ]
  },
  {
   "cell_type": "markdown",
   "metadata": {},
   "source": [
    "### 2. Data Utilized :"
   ]
  },
  {
   "cell_type": "markdown",
   "metadata": {},
   "source": [
    "For this Project I am using  datasets from kaggle , which will be providing me with the required data for my project which consists of Patient Data , State-wise Distribution of infected patients and so on.\n",
    "\n",
    "I will be utilizing this data for predictive analysis using Regression.I will also be able to from clusters based on the rate of infection in each area.\n",
    "\n",
    "Forusquare API will be able to provide me with the required data for the venues in each city or cities I decide on, and where it has the most active population in it.\n"
   ]
  },
  {
   "cell_type": "code",
   "execution_count": null,
   "metadata": {},
   "outputs": [],
   "source": []
  },
  {
   "cell_type": "code",
   "execution_count": null,
   "metadata": {},
   "outputs": [],
   "source": []
  }
 ],
 "metadata": {
  "kernelspec": {
   "display_name": "Python 3",
   "language": "python",
   "name": "python3"
  },
  "language_info": {
   "codemirror_mode": {
    "name": "ipython",
    "version": 3
   },
   "file_extension": ".py",
   "mimetype": "text/x-python",
   "name": "python",
   "nbconvert_exporter": "python",
   "pygments_lexer": "ipython3",
   "version": "3.7.6"
  },
  "toc": {
   "base_numbering": "",
   "nav_menu": {},
   "number_sections": false,
   "sideBar": true,
   "skip_h1_title": false,
   "title_cell": "Table of Contents",
   "title_sidebar": "Contents",
   "toc_cell": false,
   "toc_position": {
    "height": "calc(100% - 180px)",
    "left": "10px",
    "top": "150px",
    "width": "307.2px"
   },
   "toc_section_display": true,
   "toc_window_display": true
  }
 },
 "nbformat": 4,
 "nbformat_minor": 4
}
