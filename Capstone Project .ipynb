{
 "cells": [
  {
   "cell_type": "markdown",
   "metadata": {},
   "source": [
    "# Applied Data Science Capstone Project : \n",
    "### Battle of Restaurants in the Neighborhoods of Toronto.\n"
   ]
  },
  {
   "cell_type": "markdown",
   "metadata": {},
   "source": [
    "### 1. Introduction to the problem :"
   ]
  },
  {
   "cell_type": "markdown",
   "metadata": {},
   "source": [
    "In this project I would like to explain the idea about where an aspiring entrepreneur should start his restaurant in the neighborhoods of Toronto, precisely on which street also.\n",
    "What I would like to convey through this project is where he would get maximum food enthusiasts as customers and a safe neighborhood having maximum density of population as well.\n",
    "\n",
    "\n",
    "Hopefully by the end of this project I will be able to even talk about what cuisine he should inculcate in his restaurant for more customers based on their liking.\n",
    "By using the Foursquare API I would like to get the list of top restaurants in each Neighborhood and where they have the maximum reviews and tips and use it in my project for the client to give him a better idea for his startup Restaurant.\n",
    "\n",
    "In this project I will also be using Decision Trees for the client to make him make the right decisions.\n",
    "I will also be using Folium in this project for visualization purposes about different restaurants with different cuisines.\n",
    "And also clustering to some extent.\n",
    "\n",
    "In the next Topic we will be discussing the Data which I will be using for the project in a detailed way.\n",
    "\n",
    "\n"
   ]
  },
  {
   "cell_type": "markdown",
   "metadata": {},
   "source": [
    "### 2. Data Utilized :"
   ]
  },
  {
   "cell_type": "markdown",
   "metadata": {},
   "source": [
    "For this Project I will be using the which I previously used in a project for neighborhoods.\n",
    "This dataset contains postal codes of neighborhoods in Toronto,Canada and also the coordinates for each Neighborhoood.\n",
    "I have scraped this data from Wikipedia using the BeautifulSoap4 package.\n",
    "I will also be using the Foursquare API to call the good restaurants in each neighborhood for the project, mostly the top 10 in each neighborhood.\n",
    "\n",
    "This will also help for the decision tree and clustering.\n",
    "In this project the folium package is also used for data visualization of the clustering model that I plan to bulid.\n",
    "This dataset seems to provide the required data for the project."
   ]
  }
 ],
 "metadata": {
  "kernelspec": {
   "display_name": "Python 3",
   "language": "python",
   "name": "python3"
  },
  "language_info": {
   "codemirror_mode": {
    "name": "ipython",
    "version": 3
   },
   "file_extension": ".py",
   "mimetype": "text/x-python",
   "name": "python",
   "nbconvert_exporter": "python",
   "pygments_lexer": "ipython3",
   "version": "3.7.6"
  },
  "toc": {
   "base_numbering": "",
   "nav_menu": {},
   "number_sections": false,
   "sideBar": true,
   "skip_h1_title": false,
   "title_cell": "Table of Contents",
   "title_sidebar": "Contents",
   "toc_cell": false,
   "toc_position": {
    "height": "calc(100% - 180px)",
    "left": "10px",
    "top": "150px",
    "width": "307.2px"
   },
   "toc_section_display": true,
   "toc_window_display": true
  }
 },
 "nbformat": 4,
 "nbformat_minor": 4
}
