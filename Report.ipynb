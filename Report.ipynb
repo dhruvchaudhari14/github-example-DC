{
 "cells": [
  {
   "cell_type": "markdown",
   "metadata": {},
   "source": [
    "# Report "
   ]
  },
  {
   "cell_type": "markdown",
   "metadata": {},
   "source": [
    "## Based on the data accuqired and data extracted from Foursquare API, it can be seen that there is a high concentration of Restaurants and Hotels in the central part of the city.\n",
    "\n",
    "## A few scatter plots show relations between ratings and Delivery options and it is clearly seen the Delivery options may it be Takeaway or Home Delivery ratings are not affected by it.\n",
    "\n",
    "## Higher concentration of Restaurants is in the Koregaon Park(223),Baner(208), Kalyani Nagar(113),FC Road(102),Phoenix Market City(98),Viman Nagar(98),Kothrud(90) localities with ratings greater than 4 which tells us that starting a Restaurant in these locations will yeild more food enthusiasts and more income.\n",
    "\n",
    "## Price Range also shows that Koregaon Park has a higher overall price range which is 4 and serves all kinds of courses in that locality.Also the map shows a pretty high concentration of restaurants in the central part as I have told before. \n",
    "\n",
    "## Concluding this Report I would recommend that my client should start up his Restaurant in the Koregaon Park Locality.\n"
   ]
  }
 ],
 "metadata": {
  "kernelspec": {
   "display_name": "Python 3",
   "language": "python",
   "name": "python3"
  },
  "language_info": {
   "codemirror_mode": {
    "name": "ipython",
    "version": 3
   },
   "file_extension": ".py",
   "mimetype": "text/x-python",
   "name": "python",
   "nbconvert_exporter": "python",
   "pygments_lexer": "ipython3",
   "version": "3.7.6"
  }
 },
 "nbformat": 4,
 "nbformat_minor": 4
}
